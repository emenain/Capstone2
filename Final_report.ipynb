{
 "cells": [
  {
   "cell_type": "markdown",
   "metadata": {},
   "source": [
    "# Cryptocurrency Future Forecast"
   ]
  },
  {
   "cell_type": "markdown",
   "metadata": {},
   "source": [
    "Over $40 billion worth of cryptocurrencies are traded every day. They are among the most popular assets for speculation and investment, yet have proven wildly volatile. Fast-fluctuating prices have made millionaires of a lucky few, and delivered crushing losses to others. Could some of these price movements have been predicted in advance?"
   ]
  },
  {
   "cell_type": "markdown",
   "metadata": {},
   "source": [
    "## 1. Data Overview"
   ]
  },
  {
   "cell_type": "markdown",
   "metadata": {},
   "source": [
    "G-Research is an investment firm that hosted a Kaggle competition and that's where the data for this project will be acquired from.  The data from the Kaggle competition can be found [here](https://www.kaggle.com/c/g-research-crypto-forecasting/data).\n",
    "\n",
    "The following 2 tables were available from the competition.  Below is an overview of the data:\n",
    "\n",
    "- train.csv - The training set\n",
    " - timestamp - A timestamp for the minute covered by the row.\n",
    " - Asset_ID - An ID code for the cryptoasset.\n",
    " - Count - The number of trades that took place this minute.\n",
    " - Open - The USD price at the beginning of the minute.\n",
    " - High - The highest USD price during the minute.\n",
    " - Low - The lowest USD price during the minute.\n",
    " - Close - The USD price at the end of the minute.\n",
    " - Volume - The number of cryptoasset units traded during the minute.\n",
    " - VWAP - The volume weighted average price for the minute.\n",
    " - Target - 15 minute residualized returns.\n",
    "\n",
    "- asset_details.csv - Provides the real name and of the cryptoasset for each Asset_ID and the weight each cryptoasset receives in the metric."
   ]
  },
  {
   "cell_type": "markdown",
   "metadata": {},
   "source": [
    "The dataset contains returns for 14 cryptocurrencies with millions of rows of high-frequency data (60-second intervals) dating back to Januar, 2018. "
   ]
  },
  {
   "cell_type": "markdown",
   "metadata": {},
   "source": [
    "## 2. Data Cleaning"
   ]
  },
  {
   "cell_type": "markdown",
   "metadata": {},
   "source": [
    "We have a total of 24.2 million rows of trading data by the minute, for all cryptocurrencies combined. Each row represents a the trades by the minute (open price, closing price, volume traded, highest price during the minute, lowest pricem and the volume). I started by examining the quality of the data by using .describe(), and checking the percentage of missing values/column.\n",
    "\n",
    "Below is a summary of the main steps I took to clean the main issues in the dataset:\n",
    " - **Missing Values:** Target column had 3% missing data.  The target is 15 minute residualized returns and will not be used for the purposes of this project. This column was dropped.\n",
    " - **Gaps in the data:** Missing asset data, for a given minute, is not represented by NaN's, but instead by the absence of those rows. I checked the timestamp difference between consecutive rows to see if there is missing data.  To fill the gaps, wthe .reindex() method was used for forward filling, filling gaps with the previous valid value."
   ]
  },
  {
   "cell_type": "markdown",
   "metadata": {},
   "source": [
    "## 3. Exploratory Data Analysis"
   ]
  },
  {
   "cell_type": "markdown",
   "metadata": {},
   "source": [
    "I started exporling the data by check the start and end date for each asset.  As displayed in the figure below most assets have a start date of January1, 2018, except Cardano, Dogecoin, stellar, TRON, IOTA and Maker.  All of the currencies have an end date of september 21, 2019."
   ]
  },
  {
   "cell_type": "markdown",
   "metadata": {},
   "source": [
    " ![Weight of each Cryptocurrency](CHARTS/WEIGHTS.png)"
   ]
  },
  {
   "cell_type": "markdown",
   "metadata": {},
   "source": [
    " ![start and end date for each cryptocurrency](CHARTS/Dates.png)"
   ]
  },
  {
   "cell_type": "markdown",
   "metadata": {},
   "source": [
    "The figure below displays the weight of each cryptocurrency.  For the purposes of this project, I will be examining assets with a higher market cap such as Bitcoin, Ethereum and Cardano."
   ]
  },
  {
   "cell_type": "markdown",
   "metadata": {},
   "source": [
    " ![Weight of each Cryptocurrency](CHARTS/pie.png)"
   ]
  },
  {
   "cell_type": "markdown",
   "metadata": {},
   "source": [
    "We can see that generally speaking, all the currencies have the same shape, meaning they are all on the low price range at the same time and spikes in price are also refelcted for all assets.  \n",
    "Ethereum, Bitcoin, Cardan, Doge and Binance have very similar patters."
   ]
  },
  {
   "cell_type": "markdown",
   "metadata": {},
   "source": [
    " ![Price Movement for each asset](CHARTS/AllAssets.png)"
   ]
  },
  {
   "cell_type": "markdown",
   "metadata": {},
   "source": [
    "The heatmap below shows a very high correlation between all assets.  BNB and EOS have a low correaltion as well as BTC and BCH. \n",
    "The highest correlation is 0.97 between Doge and ETC, ETH and ADA have a high correlation as well.  Finding which asset leads the price movement would be extremely helpful in predicting price movement for assets that follow. "
   ]
  },
  {
   "cell_type": "markdown",
   "metadata": {},
   "source": [
    " ![Weight of each Cryptocurrency](CHARTS/corr.png)"
   ]
  },
  {
   "cell_type": "markdown",
   "metadata": {},
   "source": [
    "### Moving Average"
   ]
  },
  {
   "cell_type": "markdown",
   "metadata": {},
   "source": [
    "In this section I'll examine how moving average may be used as an indicator in predicting price movement. \n",
    "Looking at the 5 day and 20 day moving average the following was obsereved based on the chart below:\n",
    "- When the 5 day MA just passes above the 20 day MA - it's an indication to buy the asset\n",
    "- When the 5 day MA is lower than the 20 day MA - it's an indication to sell the asset "
   ]
  },
  {
   "cell_type": "markdown",
   "metadata": {},
   "source": [
    " ![BTC Daily MA](CHARTS/btc-dailyMA.png)"
   ]
  },
  {
   "cell_type": "markdown",
   "metadata": {},
   "source": [
    "Moving averages work better on larger time frames (daily and weekly) - but it seems that they just add noise to the smaller timeframes."
   ]
  },
  {
   "cell_type": "markdown",
   "metadata": {},
   "source": [
    "## 4. Preprocessing and Modeling"
   ]
  },
  {
   "cell_type": "markdown",
   "metadata": {},
   "source": [
    "The following steps were taken to pre-process the data:\n",
    " - Resampled the data to daily timeframes\n",
    " - Added 5-day moving average and 20-day moving average\n",
    " - Split each cryptocoin into a separate dataframe - the daily closing price is predicted separately for each asset.\n",
    " - MinMax Scaler was used to scale the data.\n"
   ]
  },
  {
   "cell_type": "markdown",
   "metadata": {},
   "source": [
    "### 4.1 Long Short Term Memory"
   ]
  },
  {
   "cell_type": "markdown",
   "metadata": {},
   "source": [
    "The Sequential model imported from Keras and required libraries were used.  Two LSTM layers were used in the model and a dropout of 10%, mean square error is the loss function.  \n",
    "\n",
    "Only the timestamp, open, and close columns were used for the predictions of this model. \n",
    "\n",
    "The model had 2736.5 RMSE which was the best performing model in this project."
   ]
  },
  {
   "cell_type": "markdown",
   "metadata": {},
   "source": [
    " ![LSTM BTC CLose](CHARTS/LSTM-Close.png)"
   ]
  },
  {
   "cell_type": "markdown",
   "metadata": {},
   "source": [
    "### 4.2 Linear Regression and KNN"
   ]
  },
  {
   "cell_type": "markdown",
   "metadata": {},
   "source": [
    "Both of these models performed poorly, more cleaning and tunning is required to improve the predictions. \n",
    "Linear Regression resulted in RMSE 6116.6 and KNN resulted in 6179.2.  Both models had alot more features than the features provided for the LSTM model. "
   ]
  },
  {
   "cell_type": "markdown",
   "metadata": {},
   "source": [
    "## 5.0 Future Work"
   ]
  },
  {
   "cell_type": "markdown",
   "metadata": {},
   "source": [
    "Going forward there are alot of enhancements that can be made for better performance: \n",
    " - Combine all assets to check if it results in enhanced model performance \n",
    " - Use same model with different timeframes (5-min, 30 min, weekly, etc.)\n",
    " - Use Pycart to check best performing models and run more test\n"
   ]
  },
  {
   "cell_type": "code",
   "execution_count": null,
   "metadata": {},
   "outputs": [],
   "source": []
  }
 ],
 "metadata": {
  "kernelspec": {
   "display_name": "Python 3",
   "language": "python",
   "name": "python3"
  },
  "language_info": {
   "codemirror_mode": {
    "name": "ipython",
    "version": 3
   },
   "file_extension": ".py",
   "mimetype": "text/x-python",
   "name": "python",
   "nbconvert_exporter": "python",
   "pygments_lexer": "ipython3",
   "version": "3.8.3"
  }
 },
 "nbformat": 4,
 "nbformat_minor": 4
}
